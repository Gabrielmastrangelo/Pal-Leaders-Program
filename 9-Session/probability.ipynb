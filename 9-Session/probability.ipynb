{
 "cells": [
  {
   "cell_type": "markdown",
   "metadata": {},
   "source": [
    "# Computing Empirical Probabilities for Financial Markets\n",
    "\n",
    "Today we are going to compute empirical probabilities for IVV, TIP and TSLA returns.\n",
    "Where:\n",
    "+ IVV represents the S&P 500 index\n",
    "+ TIP represents the US government bonds\n",
    "+ TSLA is the Tesla Stocks\n",
    "\n",
    "**Empirical probability**, refers to a probability that is based on historical data. In other words, it illustrates the likelihood of an event occurring based on historical data.\n",
    "\n",
    "**Note**: We can use conditional probabilities to have a sense of the relations between the returns of this different securities.\n",
    "\n",
    "### Calling the Libraries, and getting the data"
   ]
  },
  {
   "cell_type": "code",
   "execution_count": 2,
   "metadata": {},
   "outputs": [],
   "source": [
    "import yfinance as yf\n",
    "import pandas as pd\n",
    "import matplotlib.pyplot as plt\n",
    "import warnings\n",
    "import numpy as np\n",
    "\n",
    "securities = ['TIP', 'IVV', 'TSLA']\n",
    "\n",
    "def getPortfData(securities):\n",
    "    '''\n",
    "    The function gets a dictionary as input and calculates the historical return of the porfolio chosen\n",
    "    '''\n",
    "    basket_returns = []\n",
    "    \n",
    "    for asset in securities:\n",
    "        security = yf.Ticker(asset).history(period=\"max\")\n",
    "        returns = security['Close'].pct_change().dropna()\n",
    "        basket_returns.append(returns)\n",
    "\n",
    "    hist_returns = pd.concat(basket_returns, 1)\n",
    "    hist_returns.columns = securities\n",
    "    hist_returns = hist_returns.dropna()\n",
    "        \n",
    "    return hist_returns\n",
    "\n",
    "data = getPortfData(securities)"
   ]
  },
  {
   "cell_type": "markdown",
   "metadata": {},
   "source": [
    "### Probability of a positive return in the day"
   ]
  },
  {
   "cell_type": "code",
   "execution_count": 3,
   "metadata": {},
   "outputs": [
    {
     "data": {
      "text/plain": [
       "TIP     0.522751\n",
       "IVV     0.552515\n",
       "TSLA    0.517277\n",
       "dtype: float64"
      ]
     },
     "execution_count": 3,
     "metadata": {},
     "output_type": "execute_result"
    }
   ],
   "source": [
    "(data > 0).mean()"
   ]
  },
  {
   "cell_type": "markdown",
   "metadata": {},
   "source": [
    "***Conclusion***: We can say that based on this data set, the empirical probability of a positive return in a random day is bigger than the probability of a negative return"
   ]
  },
  {
   "cell_type": "markdown",
   "metadata": {},
   "source": [
    "### Probability of a positive return given the last return\n",
    "\n",
    "Probability of a positive return given that the last return was positive"
   ]
  },
  {
   "cell_type": "code",
   "execution_count": 5,
   "metadata": {},
   "outputs": [
    {
     "data": {
      "text/plain": [
       "TIP     0.496066\n",
       "IVV     0.490592\n",
       "TSLA    0.488539\n",
       "dtype: float64"
      ]
     },
     "execution_count": 5,
     "metadata": {},
     "output_type": "execute_result"
    }
   ],
   "source": [
    "prob = ((data > 0) == (data > 0).shift(1)).mean()\n",
    "prob"
   ]
  },
  {
   "cell_type": "markdown",
   "metadata": {},
   "source": [
    "Probability of a positive return given that the last return was negative"
   ]
  },
  {
   "cell_type": "code",
   "execution_count": 6,
   "metadata": {},
   "outputs": [
    {
     "data": {
      "text/plain": [
       "TIP     0.503934\n",
       "IVV     0.509408\n",
       "TSLA    0.511461\n",
       "dtype: float64"
      ]
     },
     "execution_count": 6,
     "metadata": {},
     "output_type": "execute_result"
    }
   ],
   "source": [
    "1 -  prob"
   ]
  },
  {
   "cell_type": "markdown",
   "metadata": {},
   "source": [
    "***Conclusion***: We can say that based on this data set, the empirical probability of a positive return in a day given that the last daily return was negative is bigger than if it was positive."
   ]
  },
  {
   "cell_type": "markdown",
   "metadata": {},
   "source": [
    "### Probability of TSLA having a positive return given the return of IVV\n",
    "\n",
    "Probability of TSLA having a positive return given that the IVV had a positive return"
   ]
  },
  {
   "cell_type": "code",
   "execution_count": 16,
   "metadata": {},
   "outputs": [
    {
     "data": {
      "text/plain": [
       "0.6377708978328174"
      ]
     },
     "execution_count": 16,
     "metadata": {},
     "output_type": "execute_result"
    }
   ],
   "source": [
    "#Returns a dataframe with True for positive returns and False for negative\n",
    "binom_data = data > 0\n",
    "\n",
    "#Given that the return for IVV was positive\n",
    "binom_data = binom_data[binom_data.IVV == True]\n",
    "\n",
    "prob = binom_data.TSLA.mean()\n",
    "prob"
   ]
  },
  {
   "cell_type": "markdown",
   "metadata": {},
   "source": [
    "Probability of TSLA having a positive return given that the IVV had a negative return"
   ]
  },
  {
   "cell_type": "code",
   "execution_count": 17,
   "metadata": {},
   "outputs": [
    {
     "data": {
      "text/plain": [
       "0.3622291021671826"
      ]
     },
     "execution_count": 17,
     "metadata": {},
     "output_type": "execute_result"
    }
   ],
   "source": [
    "1 - prob"
   ]
  },
  {
   "cell_type": "markdown",
   "metadata": {},
   "source": [
    "***Conclusion***: We can say that based on this data set, the empirical probability of a positive return for TSLA given that the IVV ETF had a positive return is bigger than if it was negative. Which makes sense, because we expected that TSLA returns have a positive correlation with the IVV returns (stock market index)."
   ]
  },
  {
   "cell_type": "markdown",
   "metadata": {},
   "source": [
    "### Probability of IVV having a positive return given the return of TIP\n",
    "\n",
    "Probability of TSLA having a positive return given that the IVV had a positive return"
   ]
  },
  {
   "cell_type": "code",
   "execution_count": 20,
   "metadata": {},
   "outputs": [
    {
     "data": {
      "text/plain": [
       "0.5963302752293578"
      ]
     },
     "execution_count": 20,
     "metadata": {},
     "output_type": "execute_result"
    }
   ],
   "source": [
    "#Returns a dataframe with True for positive returns and False for negative\n",
    "binom_data = data > 0\n",
    "\n",
    "#Given that the return for IVV was negative\n",
    "binom_data = binom_data[binom_data.IVV == False]\n",
    "\n",
    "prob = binom_data.TIP.mean()\n",
    "prob"
   ]
  },
  {
   "cell_type": "markdown",
   "metadata": {},
   "source": [
    "***Conclusion***: We can say that based on this data set, the empirical probability of a negative return for IVV given that the TIP ETF had a positive return is bigger than if it was negative. Which makes sense, because we expected that IVV returns have a inverse correlation with the TIP returns (US government bonds)."
   ]
  }
 ],
 "metadata": {
  "kernelspec": {
   "display_name": "Python 3",
   "language": "python",
   "name": "python3"
  },
  "language_info": {
   "codemirror_mode": {
    "name": "ipython",
    "version": 3
   },
   "file_extension": ".py",
   "mimetype": "text/x-python",
   "name": "python",
   "nbconvert_exporter": "python",
   "pygments_lexer": "ipython3",
   "version": "3.8.5"
  }
 },
 "nbformat": 4,
 "nbformat_minor": 4
}
