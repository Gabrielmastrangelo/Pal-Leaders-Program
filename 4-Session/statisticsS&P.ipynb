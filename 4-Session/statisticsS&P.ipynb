{
 "cells": [
  {
   "cell_type": "markdown",
   "metadata": {},
   "source": [
    "# Geometric Mean, Standard Deviation and Coefficient of Variation for S&P 500\n",
    "\n",
    "We will use some of the knowledge that we have gained in our BADM 210 classes and PAL sessions, to apply in real world data. </br>\n",
    "Today we are going to use the historical data of the IVV ETF that reflects the returns of the S&P 500, to compute some statistics. </br>\n",
    "The **big goal** of this is to **motivate** the **students** to study and appreciate the theory that is presented to us in the classes, by showing that there are cool applications for it."
   ]
  },
  {
   "cell_type": "markdown",
   "metadata": {},
   "source": [
    "### Importing the Libraries"
   ]
  },
  {
   "cell_type": "code",
   "execution_count": 79,
   "metadata": {},
   "outputs": [],
   "source": [
    "import math\n",
    "import pandas as pd\n",
    "import seaborn as sbn\n",
    "import yfinance as yf\n",
    "import matplotlib.pyplot as plt"
   ]
  },
  {
   "cell_type": "markdown",
   "metadata": {},
   "source": [
    "### Getting and Cleaning the Data"
   ]
  },
  {
   "cell_type": "code",
   "execution_count": 24,
   "metadata": {},
   "outputs": [
    {
     "name": "stderr",
     "output_type": "stream",
     "text": [
      "C:\\Users\\User\\anaconda3\\lib\\site-packages\\pandas\\core\\indexing.py:670: SettingWithCopyWarning: \n",
      "A value is trying to be set on a copy of a slice from a DataFrame\n",
      "\n",
      "See the caveats in the documentation: https://pandas.pydata.org/pandas-docs/stable/user_guide/indexing.html#returning-a-view-versus-a-copy\n",
      "  iloc._setitem_with_indexer(indexer, value)\n"
     ]
    },
    {
     "data": {
      "text/html": [
       "<div>\n",
       "<style scoped>\n",
       "    .dataframe tbody tr th:only-of-type {\n",
       "        vertical-align: middle;\n",
       "    }\n",
       "\n",
       "    .dataframe tbody tr th {\n",
       "        vertical-align: top;\n",
       "    }\n",
       "\n",
       "    .dataframe thead th {\n",
       "        text-align: right;\n",
       "    }\n",
       "</style>\n",
       "<table border=\"1\" class=\"dataframe\">\n",
       "  <thead>\n",
       "    <tr style=\"text-align: right;\">\n",
       "      <th></th>\n",
       "      <th>Close</th>\n",
       "      <th>Volume</th>\n",
       "    </tr>\n",
       "    <tr>\n",
       "      <th>Date</th>\n",
       "      <th></th>\n",
       "      <th></th>\n",
       "    </tr>\n",
       "  </thead>\n",
       "  <tbody>\n",
       "    <tr>\n",
       "      <th>2000-05-19</th>\n",
       "      <td>0.000000</td>\n",
       "      <td>775500</td>\n",
       "    </tr>\n",
       "    <tr>\n",
       "      <th>2000-05-22</th>\n",
       "      <td>-0.006220</td>\n",
       "      <td>1850600</td>\n",
       "    </tr>\n",
       "    <tr>\n",
       "      <th>2000-05-23</th>\n",
       "      <td>-0.015198</td>\n",
       "      <td>373900</td>\n",
       "    </tr>\n",
       "    <tr>\n",
       "      <th>2000-05-24</th>\n",
       "      <td>0.014979</td>\n",
       "      <td>400300</td>\n",
       "    </tr>\n",
       "    <tr>\n",
       "      <th>2000-05-25</th>\n",
       "      <td>-0.009168</td>\n",
       "      <td>69600</td>\n",
       "    </tr>\n",
       "    <tr>\n",
       "      <th>...</th>\n",
       "      <td>...</td>\n",
       "      <td>...</td>\n",
       "    </tr>\n",
       "    <tr>\n",
       "      <th>2022-01-13</th>\n",
       "      <td>-0.013719</td>\n",
       "      <td>5351100</td>\n",
       "    </tr>\n",
       "    <tr>\n",
       "      <th>2022-01-14</th>\n",
       "      <td>0.000343</td>\n",
       "      <td>9652900</td>\n",
       "    </tr>\n",
       "    <tr>\n",
       "      <th>2022-01-18</th>\n",
       "      <td>-0.017675</td>\n",
       "      <td>9681700</td>\n",
       "    </tr>\n",
       "    <tr>\n",
       "      <th>2022-01-19</th>\n",
       "      <td>-0.010338</td>\n",
       "      <td>6253700</td>\n",
       "    </tr>\n",
       "    <tr>\n",
       "      <th>2022-01-20</th>\n",
       "      <td>0.005017</td>\n",
       "      <td>5656108</td>\n",
       "    </tr>\n",
       "  </tbody>\n",
       "</table>\n",
       "<p>5453 rows × 2 columns</p>\n",
       "</div>"
      ],
      "text/plain": [
       "               Close   Volume\n",
       "Date                         \n",
       "2000-05-19  0.000000   775500\n",
       "2000-05-22 -0.006220  1850600\n",
       "2000-05-23 -0.015198   373900\n",
       "2000-05-24  0.014979   400300\n",
       "2000-05-25 -0.009168    69600\n",
       "...              ...      ...\n",
       "2022-01-13 -0.013719  5351100\n",
       "2022-01-14  0.000343  9652900\n",
       "2022-01-18 -0.017675  9681700\n",
       "2022-01-19 -0.010338  6253700\n",
       "2022-01-20  0.005017  5656108\n",
       "\n",
       "[5453 rows x 2 columns]"
      ]
     },
     "execution_count": 24,
     "metadata": {},
     "output_type": "execute_result"
    }
   ],
   "source": [
    "asset = 'IVV'\n",
    "security = yf.Ticker(asset).history(period=\"max\")[[\"Close\", \"Volume\"]]\n",
    "security.Close = security.Close.pct_change()\n",
    "security.Close.iloc[0] = 0\n",
    "security"
   ]
  },
  {
   "cell_type": "markdown",
   "metadata": {},
   "source": [
    "### Plotting (Because it is always nice to plot)"
   ]
  },
  {
   "cell_type": "markdown",
   "metadata": {},
   "source": [
    "#### S&P 500 returns"
   ]
  },
  {
   "cell_type": "code",
   "execution_count": 27,
   "metadata": {},
   "outputs": [
    {
     "name": "stderr",
     "output_type": "stream",
     "text": [
      "<ipython-input-27-85b5b3a685d0>:3: UserWarning: FixedFormatter should only be used together with FixedLocator\n",
      "  yaxis = plot.set_yticklabels(['{:,.2%}'.format(x) for x in vals])\n"
     ]
    },
    {
     "data": {
      "image/png": "[encoded data removed]",
      "text/plain": [
       "<Figure size 432x288 with 1 Axes>"
      ]
     },
     "metadata": {
      "needs_background": "light"
     },
     "output_type": "display_data"
    }
   ],
   "source": [
    "plot = ((security.Close+1).cumprod()-1).plot(title = \"Accumulated Return of S&P 500\")\n",
    "vals = plot.get_yticks()\n",
    "yaxis = plot.set_yticklabels(['{:,.2%}'.format(x) for x in vals])"
   ]
  },
  {
   "cell_type": "markdown",
   "metadata": {},
   "source": [
    "#### Histogram of the Returns"
   ]
  },
  {
   "cell_type": "code",
   "execution_count": 52,
   "metadata": {},
   "outputs": [
    {
     "data": {
      "text/plain": [
       "<matplotlib.legend.Legend at 0x26a18796ca0>"
      ]
     },
     "execution_count": 52,
     "metadata": {},
     "output_type": "execute_result"
    },
    {
     "data": {
      "image/png": "[encoded data removed]",
      "text/plain": [
       "<Figure size 432x288 with 1 Axes>"
      ]
     },
     "metadata": {
      "needs_background": "light"
     },
     "output_type": "display_data"
    }
   ],
   "source": [
    "median = security.Close.median()\n",
    "mean = security.Close.mean()\n",
    "\n",
    "security.Close.hist(bins = 100, label = \"Returns\")\n",
    "plt.axvline(x=median, color = \"r\", label = \"Median\")\n",
    "plt.axvline(x=mean, color = \"g\", label = \"Mean\")\n",
    "plt.title('Histogram of S&P 500 returns')\n",
    "plt.legend()"
   ]
  },
  {
   "cell_type": "markdown",
   "metadata": {},
   "source": [
    "### Plotting the Daily Volume for S&P 500"
   ]
  },
  {
   "cell_type": "code",
   "execution_count": 95,
   "metadata": {},
   "outputs": [
    {
     "data": {
      "text/plain": [
       "Text(0.5, 1.0, 'Histogram of S&P 500 Daily Volume')"
      ]
     },
     "execution_count": 95,
     "metadata": {},
     "output_type": "execute_result"
    },
    {
     "data": {
      "image/png": "[encoded data removed]",
      "text/plain": [
       "<Figure size 432x288 with 1 Axes>"
      ]
     },
     "metadata": {
      "needs_background": "light"
     },
     "output_type": "display_data"
    }
   ],
   "source": [
    "median = security.Volume.median()\n",
    "mean = security.Volume.mean()\n",
    "\n",
    "n = len(security.Close)\n",
    "k = math.log(n, 2)\n",
    "k = math.trunc(k)+1\n",
    "\n",
    "security.Volume.hist(bins = k)\n",
    "plt.axvline(x=median, color = \"r\", label = \"Median\")\n",
    "plt.axvline(x=mean, color = \"g\", label = \"Mean\")\n",
    "plt.legend()\n",
    "plt.title('Histogram of S&P 500 Daily Volume')"
   ]
  },
  {
   "cell_type": "code",
   "execution_count": 97,
   "metadata": {},
   "outputs": [
    {
     "data": {
      "text/plain": [
       "Text(0.5, 1.0, 'Daily Volume of S&P 500 (Time series)')"
      ]
     },
     "execution_count": 97,
     "metadata": {},
     "output_type": "execute_result"
    },
    {
     "data": {
      "image/png": "[encoded data removed]",
      "text/plain": [
       "<Figure size 432x288 with 1 Axes>"
      ]
     },
     "metadata": {
      "needs_background": "light"
     },
     "output_type": "display_data"
    }
   ],
   "source": [
    "plt.scatter(security.index, security.Volume)\n",
    "plt.axhline(y=median, color = \"r\", label = \"Median\")\n",
    "plt.axhline(y=mean, color = \"g\", label = \"Mean\")\n",
    "plt.legend()\n",
    "plt.title(\"Daily Volume of S&P 500 (Time series)\")"
   ]
  },
  {
   "cell_type": "markdown",
   "metadata": {},
   "source": [
    "### Computing the Geometric Mean for the Returns\n",
    "\n",
    "So using this formulas we are going to compute the Daily Average Historical Return of S&P 500 in the period.\n",
    "\n",
    "</br>\n",
    "\n",
    "$$ Return = \\frac{FinalValue}{InitialValue}\\ - 1 $$\n",
    "\n",
    "</br>\n",
    "\n",
    "$$ GeometricMean = (Return + 1)^{1/n} - 1$$\n"
   ]
  },
  {
   "cell_type": "code",
   "execution_count": 120,
   "metadata": {},
   "outputs": [
    {
     "name": "stdout",
     "output_type": "stream",
     "text": [
      "Daily Average Return: 0.032%\n"
     ]
    }
   ],
   "source": [
    "n = len(security.Close)\n",
    "\n",
    "acc_return = (security.Close+1).cumprod().iloc[-1]\n",
    "daily = (acc_return + 1) ** (1/n) - 1\n",
    "print(f'Daily Average Return: {round(daily*100, 3)}%')"
   ]
  },
  {
   "cell_type": "markdown",
   "metadata": {},
   "source": [
    "Note that if we have the daily return, to get the monthly and annual we just need to compound it. So:\n",
    "\n",
    "$$ Monthly = (Daily+1)^{30} - 1$$\n",
    "</br>\n",
    "$$ Annual = (Daily+1)^{360} - 1$$"
   ]
  },
  {
   "cell_type": "code",
   "execution_count": 121,
   "metadata": {},
   "outputs": [
    {
     "name": "stdout",
     "output_type": "stream",
     "text": [
      "Monthly Average Return: 0.976%\n",
      "Annual Average Return: 12.363%\n"
     ]
    }
   ],
   "source": [
    "monthly = (1+daily)**30-1\n",
    "annual = (1+daily)**360-1\n",
    "\n",
    "print(f'Monthly Average Return: {round(monthly*100, 3)}%')\n",
    "print(f'Annual Average Return: {round(annual*100, 3)}%')"
   ]
  },
  {
   "cell_type": "markdown",
   "metadata": {},
   "source": [
    "### Computing the Standard Deviation\n",
    "\n",
    "In python we have easy ways to compute the standard deviation, but it is important to note that in finance we usually use the annualized volatility."
   ]
  },
  {
   "cell_type": "code",
   "execution_count": 129,
   "metadata": {},
   "outputs": [
    {
     "name": "stdout",
     "output_type": "stream",
     "text": [
      "Annualized Volatility: 23.072%\n"
     ]
    }
   ],
   "source": [
    "standard_deviation = security.Close.std()\n",
    "\n",
    "ann_sd = standard_deviation * (360**0.5)\n",
    "print(f'Annualized Volatility: {round(ann_sd*100, 3)}%')"
   ]
  },
  {
   "cell_type": "markdown",
   "metadata": {},
   "source": [
    "### Computing the Mean and Standard Deviation for the Volume"
   ]
  },
  {
   "cell_type": "code",
   "execution_count": 140,
   "metadata": {},
   "outputs": [
    {
     "name": "stdout",
     "output_type": "stream",
     "text": [
      "Mean of the volumes: 3080809 \n",
      "Standard Deviation: 2713172\n"
     ]
    }
   ],
   "source": [
    "mean_volume = security.Volume.mean()\n",
    "sd_volume = security.Volume.std()\n",
    "\n",
    "print(f'Mean of the volumes: {round(mean_volume)} \\nStandard Deviation: {round(sd_volume)}')"
   ]
  },
  {
   "cell_type": "markdown",
   "metadata": {},
   "source": [
    "## Comparing the Coefficient of Variation from Both\n",
    "\n",
    "As they are measures of different units, in order to compare them we need to use the Coefficient of Variation (CV).\n",
    "\n",
    "$$ CV = \\frac{StandDev}{Mean}\\  $$"
   ]
  },
  {
   "cell_type": "code",
   "execution_count": 158,
   "metadata": {},
   "outputs": [
    {
     "name": "stdout",
     "output_type": "stream",
     "text": [
      "Coefficient of Variation for: \n",
      "Volume = 88.067%\n",
      "Return = 186.624%\n"
     ]
    }
   ],
   "source": [
    "cv_return = ann_sd / annual\n",
    "cv_volume = sd_volume / mean_volume\n",
    "\n",
    "print(f'Coefficient of Variation for: \\nVolume = {round(cv_volume*100 , 3)}%\\nReturn = {round(cv_return*100, 3)}%')"
   ]
  },
  {
   "cell_type": "markdown",
   "metadata": {},
   "source": [
    "## Conclusion"
   ]
  },
  {
   "cell_type": "markdown",
   "metadata": {},
   "source": [
    "We can see that both have a great variability, but the Returns vary more than the Volume of the transactions."
   ]
  }
 ],
 "metadata": {
  "kernelspec": {
   "display_name": "Python 3",
   "language": "python",
   "name": "python3"
  },
  "language_info": {
   "codemirror_mode": {
    "name": "ipython",
    "version": 3
   },
   "file_extension": ".py",
   "mimetype": "text/x-python",
   "name": "python",
   "nbconvert_exporter": "python",
   "pygments_lexer": "ipython3",
   "version": "3.8.5"
  }
 },
 "nbformat": 4,
 "nbformat_minor": 4
}
